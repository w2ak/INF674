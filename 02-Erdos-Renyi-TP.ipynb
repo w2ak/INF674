{
 "cells": [
  {
   "cell_type": "markdown",
   "metadata": {
    "nbpresent": {
     "id": "81efed75-8a3d-4962-8807-dad952e4563d"
    }
   },
   "source": [
    "# INF 674 S1: Erdös-Rényi Graphs"
   ]
  },
  {
   "cell_type": "markdown",
   "metadata": {
    "nbpresent": {
     "id": "fcaf13cd-a25a-44b6-9656-c42d8b820e07"
    }
   },
   "source": [
    "## Céline Comte & Fabien Mathieu"
   ]
  },
  {
   "cell_type": "markdown",
   "metadata": {
    "nbpresent": {
     "id": "6911859b-b270-4f59-b9ed-31d13baa5845"
    }
   },
   "source": [
    "## 2017 - 2018"
   ]
  },
  {
   "cell_type": "markdown",
   "metadata": {
    "nbpresent": {
     "id": "ea9f5c14-13bc-4c7e-97aa-8bf071651771"
    }
   },
   "source": [
    "The Erdös-Rényi graph $G(n,p)$ is our second example of undirected random graph.\n",
    "Unlike the Galton-Watson process, the population contains a finite number $n$ of nodes\n",
    "and the randomness lies in the construction of the edges.\n",
    "Specficially, for any pair of *distinct* nodes $u$ and $v$,\n",
    "there is an edge between $u$ and $v$ with probability $p$,\n",
    "independently of the existence of the other edges.\n",
    "\n",
    "If you want to deepen your theoretical knowledge of Erdös-Rényi graphs, you can read (this is **not** mandatory)\n",
    "- Lectures 3 and 4 from the course [Networks by Daron Acemoglu and Asu Ozdaglar][acemoglu],\n",
    "- Chapters 2, 3 and 4 from the book [Epidemics and Rumours in Complex Networks by Moez Draief and Laurent Massoulié][massoulie].\n",
    "\n",
    "[acemoglu]: https://ocw.mit.edu/courses/economics/14-15j-networks-fall-2009/index.htm \"Networks by Daron Acemoglu and Asu Ozdaglar\"\n",
    "[massoulie]: https://www.cambridge.org/core/books/epidemics-and-rumours-in-complex-networks/8C1D162F44C2C09F2B913038A7FA8BF6 \"Epidemics and Rumours in Complex Networks by Moez Draief and Laurent Massoulié\""
   ]
  },
  {
   "cell_type": "code",
   "execution_count": null,
   "metadata": {
    "ExecuteTime": {
     "end_time": "2017-09-22T13:36:28.349201Z",
     "start_time": "2017-09-22T13:36:28.105327Z"
    },
    "collapsed": true
   },
   "outputs": [],
   "source": [
    "%pylab inline"
   ]
  },
  {
   "cell_type": "markdown",
   "metadata": {
    "nbpresent": {
     "id": "a55ea14f-7e54-4b3f-8ea2-7a423c12c8ba"
    }
   },
   "source": [
    "# 1. Draw an Erdös-Rényi graph"
   ]
  },
  {
   "cell_type": "markdown",
   "metadata": {
    "nbpresent": {
     "id": "20552171-7dda-4717-9331-88e55705129c"
    }
   },
   "source": [
    "## Question 1"
   ]
  },
  {
   "cell_type": "markdown",
   "metadata": {
    "nbpresent": {
     "id": "e106fc71-d539-4690-959d-1813c78915e4"
    }
   },
   "source": [
    "Propose a function ``erdos_renyi`` that returns a realization of the Erdös-Rényi graph $G(n,p)$.\n",
    "\n",
    "The graph can be returned as a list of adjacency lists. For example, if you have the following graph (it is just an example),"
   ]
  },
  {
   "cell_type": "code",
   "execution_count": 2,
   "metadata": {
    "ExecuteTime": {
     "end_time": "2017-09-22T13:36:30.983824Z",
     "start_time": "2017-09-22T13:36:30.663172Z"
    },
    "hide_input": true
   },
   "outputs": [
    {
     "data": {
      "image/png": "[encoded data removed]",
      "text/plain": [
       "<matplotlib.figure.Figure at 0x7f14a792c8d0>"
      ]
     },
     "metadata": {},
     "output_type": "display_data"
    }
   ],
   "source": [
    "import networkx as nx\n",
    "G=nx.Graph()\n",
    "G.add_edge(0,3)\n",
    "G.add_edge(0,4)\n",
    "G.add_edge(1,4)\n",
    "G.add_edge(2,3)\n",
    "G.add_edge(2,4)\n",
    "nx.draw_networkx(G,with_labels=True)"
   ]
  },
  {
   "cell_type": "markdown",
   "metadata": {},
   "source": [
    "then the output could look like"
   ]
  },
  {
   "cell_type": "raw",
   "metadata": {},
   "source": [
    "[[3, 4], [4], [3,4], [0,2], [0, 1, 2]]"
   ]
  },
  {
   "cell_type": "markdown",
   "metadata": {},
   "source": [
    "(or more probably, if you use ``numpy`` arrays)"
   ]
  },
  {
   "cell_type": "raw",
   "metadata": {},
   "source": [
    "[array([3, 4], dtype=int64), array([4], dtype=int64), array([3, 4], dtype=int64), array([0, 2], dtype=int64), array([0, 1, 2], dtype=int64)]"
   ]
  },
  {
   "cell_type": "markdown",
   "metadata": {},
   "source": [
    "**Remarks:**\n",
    "1. Since this function will be used over and over again throughout the practical, we recommend that your final implementation relies on ``numpy`` functions rather than ``for`` loops in order to boost the performance.\n",
    "2. There are more than one way to do that. Remember that you want an undirected graph. In particular, if $v$ is in the adjacency list of $u$, then $u$ must be in the adjacency list of $v$."
   ]
  },
  {
   "cell_type": "markdown",
   "metadata": {},
   "source": [
    "**Code:**"
   ]
  },
  {
   "cell_type": "code",
   "execution_count": null,
   "metadata": {
    "collapsed": true
   },
   "outputs": [],
   "source": []
  },
  {
   "cell_type": "markdown",
   "metadata": {
    "nbpresent": {
     "id": "bf357cfd-d4fe-480c-8799-169a43ecc61f"
    }
   },
   "source": [
    "## Question 2"
   ]
  },
  {
   "cell_type": "markdown",
   "metadata": {
    "nbpresent": {
     "id": "0411f69a-c6c6-400e-92d8-c0083b1117dc"
    }
   },
   "source": [
    "Propose a function ``size_components`` that takes as input the adjacency list of an undirected graph and returns the sizes of its connected components."
   ]
  },
  {
   "cell_type": "markdown",
   "metadata": {},
   "source": [
    "**Code:**"
   ]
  },
  {
   "cell_type": "code",
   "execution_count": null,
   "metadata": {
    "collapsed": true
   },
   "outputs": [],
   "source": []
  },
  {
   "cell_type": "markdown",
   "metadata": {},
   "source": [
    "# 2. Reed-Frost epidemic"
   ]
  },
  {
   "cell_type": "markdown",
   "metadata": {},
   "source": [
    "We now describe the Reed-Frost epidemic, which is a simple model to analyze the propagation of an epidemic (disease, rumour...) in a finite population. As we will see, this random process is strongly related to the Erdös-Rényi random graph.\n",
    "\n",
    "We consider a finite population of $n$ individuals indexed by $\\{1,\\ldots,n\\}$. The Reed-Frost epidemic propagates step-by-step in the population as follows. At step $0$, a single individual $u \\in \\{1,\\ldots,n\\}$ is *infected* and the others are *susceptible*. Then, any individual that is infected at some step is contagious during one step and is (definitely) removed at the next step. While it is contagious, this individual can infect any other susceptible individual independently at random with probability $p$. Hence, at the end of any step $t \\ge 1$, the individuals that were infected at the end of step $t-1$ are removed, the susceptible individuals of step $t-1$ that were infected during step $t$ become infected, and the others remain susceptible.\n",
    "\n",
    "The Reed-Frost epidemic is related to the Erdös-Rényi random graph as follows. If we consider a Reed-Frost epidemic that starts at some individual $u$ and has a probability $p$ of infection, then the individuals that are infected at some step $t \\ge 0$ correspond to the nodes that are at distance $t$ of $u$ in the Erdös-Rényi random graph $G(n,p)$."
   ]
  },
  {
   "cell_type": "markdown",
   "metadata": {
    "nbpresent": {
     "id": "6ffed138-4ef0-48e1-8982-fd7e6c5efde5"
    }
   },
   "source": [
    "## Question 1"
   ]
  },
  {
   "cell_type": "markdown",
   "metadata": {
    "nbpresent": {
     "id": "18a51b42-7cff-43ce-bdfa-e61de4e5ebc9"
    }
   },
   "source": [
    "Using the relation with Erdös-Rényi graphs, adapt the functions of Exercice 1 to compute the number of nodes that are eventually infected in the Reed-Frost epidemic, starting from a given node of the population. The inputs of this new function ``size_infection`` are the number $n$ of nodes (say, between 1000 and 10000) and the probability $p$ of infection.\n",
    "\n",
    "Plot the average number of nodes that are eventually infected in a Reed-Frost epidemic as a function $p$.\n",
    "You should choose $n$, the range of $p$ (display critical values) and the number of trials wisely according to your machine capabilities.\n",
    "\n",
    "Discuss the results."
   ]
  },
  {
   "cell_type": "markdown",
   "metadata": {},
   "source": [
    "**Code:**"
   ]
  },
  {
   "cell_type": "code",
   "execution_count": null,
   "metadata": {
    "collapsed": true
   },
   "outputs": [],
   "source": []
  },
  {
   "cell_type": "markdown",
   "metadata": {},
   "source": [
    "** Discussion: **"
   ]
  },
  {
   "cell_type": "markdown",
   "metadata": {},
   "source": [
    "## Question 2"
   ]
  },
  {
   "cell_type": "markdown",
   "metadata": {},
   "source": [
    "At this point, can you make a parallel with the phase transition of the Galton-Watson process?"
   ]
  },
  {
   "cell_type": "markdown",
   "metadata": {},
   "source": [
    "**Dicussion:**"
   ]
  },
  {
   "cell_type": "markdown",
   "metadata": {},
   "source": [
    "## Question 3"
   ]
  },
  {
   "cell_type": "markdown",
   "metadata": {},
   "source": [
    "Write a function ``is_connected`` that takes as input the adjacency list of an undirected graph and returns ``true`` if the graph is connected. Use this function to evaluate by simulation the probability that the contagion of a Reed-Frost epidemic propagates to all $n$ individuals of the population, for the same value of $n$ as before."
   ]
  },
  {
   "cell_type": "markdown",
   "metadata": {},
   "source": [
    "**Answer:**"
   ]
  },
  {
   "cell_type": "markdown",
   "metadata": {
    "nbpresent": {
     "id": "5bdd53aa-7ef0-4da8-8dd9-92d0e35293d2"
    }
   },
   "source": [
    "# 3. Heterogeneous Erdös-Rényi graphs (Stochastic block model)"
   ]
  },
  {
   "cell_type": "markdown",
   "metadata": {
    "nbpresent": {
     "id": "34e01df1-364e-4f52-a7fa-fc2c9bfeea6d"
    }
   },
   "source": [
    "We now consider heterogeneous $G(n_1,p_1,n_2,p_2,p)$ graphs defined as follows:\n",
    "- The graph has $n_1$ nodes of type 1 and $n_2$ nodes of type 2.\n",
    "- Two distinct nodes of type 1 are connected with probability $p_1$.\n",
    "- Two distinct nodes of type 2 are connected with probability $p_2$.\n",
    "- A type 1 node and a type 2 node are connected with probability $p$."
   ]
  },
  {
   "cell_type": "markdown",
   "metadata": {
    "nbpresent": {
     "id": "7495a776-6f19-4ec1-ba9b-27ef3db83b01"
    }
   },
   "source": [
    "## Question 1"
   ]
  },
  {
   "cell_type": "markdown",
   "metadata": {
    "nbpresent": {
     "id": "3d6dd229-0784-47f9-a392-f93b1bd8a0d3"
    }
   },
   "source": [
    "Propose a function that returns a realization of the heterogeneous Erdös-Rényi graph $G(n_1,p_1,n_2,p_2,p)$. The graph can be returned for example as a list of adjacency lists."
   ]
  },
  {
   "cell_type": "markdown",
   "metadata": {},
   "source": [
    "**Answer:**"
   ]
  },
  {
   "cell_type": "markdown",
   "metadata": {
    "nbpresent": {
     "id": "b644cb6f-394b-4a95-94a7-6905901e3467"
    }
   },
   "source": [
    "## Question 2"
   ]
  },
  {
   "cell_type": "markdown",
   "metadata": {
    "nbpresent": {
     "id": "5c25bfa5-7050-427e-b385-1ec35bb07750"
    }
   },
   "source": [
    "In the case where $p_1 = p_2 = 0$, use the same approach as in Question 2.1 to guess where the critical regime occurs. The goal is not to *prove* anything, but to provide an educated guess based on what you have experienced before."
   ]
  },
  {
   "cell_type": "markdown",
   "metadata": {},
   "source": [
    "**Answer:**"
   ]
  },
  {
   "cell_type": "markdown",
   "metadata": {
    "nbpresent": {
     "id": "84e960f7-5e2d-4314-b844-160956df06be"
    }
   },
   "source": [
    "## Question 3"
   ]
  },
  {
   "cell_type": "markdown",
   "metadata": {
    "nbpresent": {
     "id": "3f6fe36c-5b45-4ac7-9f03-77f1830b3399"
    }
   },
   "source": [
    "Verify your guess with simulations. You can reuse the functions of Questions 1.2 and 2.1."
   ]
  },
  {
   "cell_type": "markdown",
   "metadata": {},
   "source": [
    "**Answer:**"
   ]
  },
  {
   "cell_type": "markdown",
   "metadata": {
    "nbpresent": {
     "id": "1714f8d8-ea44-427b-9957-329bb02e1a1d"
    }
   },
   "source": [
    "## Question 4 (Bonus)"
   ]
  },
  {
   "cell_type": "markdown",
   "metadata": {
    "nbpresent": {
     "id": "3c2676a9-586c-406b-b680-0868c7aea358"
    }
   },
   "source": [
    "Generalize to arbitrary $p_1$, $p_2$."
   ]
  },
  {
   "cell_type": "markdown",
   "metadata": {},
   "source": [
    "**Answer:**"
   ]
  }
 ],
 "metadata": {
  "anaconda-cloud": {},
  "kernelspec": {
   "display_name": "Python 3",
   "language": "python",
   "name": "python3"
  },
  "language_info": {
   "codemirror_mode": {
    "name": "ipython",
    "version": 3
   },
   "file_extension": ".py",
   "mimetype": "text/x-python",
   "name": "python",
   "nbconvert_exporter": "python",
   "pygments_lexer": "ipython3",
   "version": "3.6.1"
  },
  "latex_envs": {
   "LaTeX_envs_menu_present": true,
   "bibliofile": "biblio.bib",
   "cite_by": "apalike",
   "current_citInitial": 1,
   "eqLabelWithNumbers": true,
   "eqNumInitial": 1,
   "hotkeys": {
    "equation": "Ctrl-E",
    "itemize": "Ctrl-I"
   },
   "labels_anchors": false,
   "latex_user_defs": false,
   "report_style_numbering": false,
   "user_envs_cfg": false
  },
  "nav_menu": {},
  "nbpresent": {
   "slides": {
    "0d954c60-96d8-4918-80a5-7aa38ce4ee09": {
     "id": "0d954c60-96d8-4918-80a5-7aa38ce4ee09",
     "prev": "fbf4e989-4e4e-4663-8020-391f8a2fdf07",
     "regions": {
      "2b577850-531f-4f51-a121-a32f2c93de8c": {
       "attrs": {
        "height": 0.8,
        "width": 0.8,
        "x": 0.1,
        "y": 0.1
       },
       "content": {
        "cell": "5bdd53aa-7ef0-4da8-8dd9-92d0e35293d2",
        "part": "whole"
       },
       "id": "2b577850-531f-4f51-a121-a32f2c93de8c"
      }
     }
    },
    "0dd9f89b-f6ea-4153-add2-678b33d83e41": {
     "id": "0dd9f89b-f6ea-4153-add2-678b33d83e41",
     "prev": "f8612623-3785-4375-adb8-93ff5977d8ce",
     "regions": {
      "1ee757e9-cea3-4db2-a288-c09fc1aac9de": {
       "attrs": {
        "height": 0.8,
        "width": 0.8,
        "x": 0.1,
        "y": 0.1
       },
       "content": {
        "cell": "3f6fe36c-5b45-4ac7-9f03-77f1830b3399",
        "part": "whole"
       },
       "id": "1ee757e9-cea3-4db2-a288-c09fc1aac9de"
      }
     }
    },
    "11dca753-fdc3-451f-bdf2-e8d14410658a": {
     "id": "11dca753-fdc3-451f-bdf2-e8d14410658a",
     "prev": "4b48467c-bb49-4302-9a0d-49759fb9790c",
     "regions": {
      "99226540-ea49-4523-a185-107c507fd9c9": {
       "attrs": {
        "height": 0.8,
        "width": 0.8,
        "x": 0.1,
        "y": 0.1
       },
       "content": {
        "cell": "0411f69a-c6c6-400e-92d8-c0083b1117dc",
        "part": "whole"
       },
       "id": "99226540-ea49-4523-a185-107c507fd9c9"
      }
     }
    },
    "15fad424-33e8-4ec6-a33f-c6172edf0c6a": {
     "id": "15fad424-33e8-4ec6-a33f-c6172edf0c6a",
     "prev": "0dd9f89b-f6ea-4153-add2-678b33d83e41",
     "regions": {
      "d6743dd9-2dcd-4312-9395-3e2e45ecf28c": {
       "attrs": {
        "height": 0.8,
        "width": 0.8,
        "x": 0.1,
        "y": 0.1
       },
       "content": {
        "cell": "1714f8d8-ea44-427b-9957-329bb02e1a1d",
        "part": "whole"
       },
       "id": "d6743dd9-2dcd-4312-9395-3e2e45ecf28c"
      }
     }
    },
    "20bca41c-261a-440b-b704-2cd6f0383aa1": {
     "id": "20bca41c-261a-440b-b704-2cd6f0383aa1",
     "prev": "2137c53d-6f59-4132-9fd1-ddd322d551c0",
     "regions": {
      "b96ee5f8-5d47-4407-8f58-cdcfaa77d80a": {
       "attrs": {
        "height": 0.8,
        "width": 0.8,
        "x": 0.1,
        "y": 0.1
       },
       "content": {
        "cell": "5d5622be-ecac-4a7d-99e4-4a1d7fb18688",
        "part": "whole"
       },
       "id": "b96ee5f8-5d47-4407-8f58-cdcfaa77d80a"
      }
     }
    },
    "2137c53d-6f59-4132-9fd1-ddd322d551c0": {
     "id": "2137c53d-6f59-4132-9fd1-ddd322d551c0",
     "prev": "809b04fe-5f51-4400-9246-afb34c6923ff",
     "regions": {
      "690eafd5-2593-4dc1-8a75-76f0f16a5c55": {
       "attrs": {
        "height": 0.8,
        "width": 0.8,
        "x": 0.1,
        "y": 0.1
       },
       "content": {
        "cell": "0a354f73-6b64-4c71-8326-b574368036d8",
        "part": "whole"
       },
       "id": "690eafd5-2593-4dc1-8a75-76f0f16a5c55"
      }
     }
    },
    "264fc49a-5162-4f9e-a6f5-14d1b7d1b805": {
     "id": "264fc49a-5162-4f9e-a6f5-14d1b7d1b805",
     "prev": "565263cb-8821-424d-9d7a-671306c1498c",
     "regions": {
      "96f6ef8c-0d14-4c12-876d-b8ad41a0c46c": {
       "attrs": {
        "height": 0.8,
        "width": 0.8,
        "x": 0.1,
        "y": 0.1
       },
       "content": {
        "cell": "6911859b-b270-4f59-b9ed-31d13baa5845",
        "part": "whole"
       },
       "id": "96f6ef8c-0d14-4c12-876d-b8ad41a0c46c"
      }
     }
    },
    "3fa31415-770f-4c5c-97b4-1a9be2de8252": {
     "id": "3fa31415-770f-4c5c-97b4-1a9be2de8252",
     "prev": "f4b212f7-e978-4b7b-9f9f-34da2fbcd1c9",
     "regions": {
      "329a3895-a925-41c3-9c9a-00b62d0d295a": {
       "attrs": {
        "height": 0.8,
        "width": 0.8,
        "x": 0.1,
        "y": 0.1
       },
       "content": {
        "cell": "18a51b42-7cff-43ce-bdfa-e61de4e5ebc9",
        "part": "whole"
       },
       "id": "329a3895-a925-41c3-9c9a-00b62d0d295a"
      }
     }
    },
    "40e88018-d5de-43ca-ba6c-58548495c01f": {
     "id": "40e88018-d5de-43ca-ba6c-58548495c01f",
     "prev": "723ae868-5e76-4a5e-aff4-0d28ba936da3",
     "regions": {
      "a0c871eb-3b16-4f84-86af-803b86a538fa": {
       "attrs": {
        "height": 0.8,
        "width": 0.8,
        "x": 0.1,
        "y": 0.1
       },
       "content": {
        "cell": "948df00d-b71c-4934-8276-1b77e938c2ab",
        "part": "whole"
       },
       "id": "a0c871eb-3b16-4f84-86af-803b86a538fa"
      }
     }
    },
    "4b48467c-bb49-4302-9a0d-49759fb9790c": {
     "id": "4b48467c-bb49-4302-9a0d-49759fb9790c",
     "prev": "e525f661-88d0-4e68-a4c1-122ba264e45d",
     "regions": {
      "b1ecddc8-6878-431a-990c-762cfa56e88b": {
       "attrs": {
        "height": 0.8,
        "width": 0.8,
        "x": 0.1,
        "y": 0.1
       },
       "content": {
        "cell": "bf357cfd-d4fe-480c-8799-169a43ecc61f",
        "part": "whole"
       },
       "id": "b1ecddc8-6878-431a-990c-762cfa56e88b"
      }
     }
    },
    "5123c8ce-4348-4b28-ac5c-52f2b2308c76": {
     "id": "5123c8ce-4348-4b28-ac5c-52f2b2308c76",
     "prev": "0d954c60-96d8-4918-80a5-7aa38ce4ee09",
     "regions": {
      "bd7f3bd5-497e-402c-9354-9b2f4404703d": {
       "attrs": {
        "height": 0.8,
        "width": 0.8,
        "x": 0.1,
        "y": 0.1
       },
       "content": {
        "cell": "34e01df1-364e-4f52-a7fa-fc2c9bfeea6d",
        "part": "whole"
       },
       "id": "bd7f3bd5-497e-402c-9354-9b2f4404703d"
      }
     }
    },
    "565263cb-8821-424d-9d7a-671306c1498c": {
     "id": "565263cb-8821-424d-9d7a-671306c1498c",
     "prev": "fdcdaecd-40a2-4404-8318-eba24209f125",
     "regions": {
      "cbe4c3ff-3300-4a54-9388-2dc0d017d75c": {
       "attrs": {
        "height": 0.8,
        "width": 0.8,
        "x": 0.1,
        "y": 0.1
       },
       "content": {
        "cell": "fcaf13cd-a25a-44b6-9656-c42d8b820e07",
        "part": "whole"
       },
       "id": "cbe4c3ff-3300-4a54-9388-2dc0d017d75c"
      }
     }
    },
    "5653363d-9575-47d0-9f6c-2e16fcae07e2": {
     "id": "5653363d-9575-47d0-9f6c-2e16fcae07e2",
     "prev": "a7ecab66-e537-4094-be3f-23082864e488",
     "regions": {
      "4cbed46b-20b5-4fb6-b343-c52c8d4d0133": {
       "attrs": {
        "height": 0.8,
        "width": 0.8,
        "x": 0.1,
        "y": 0.1
       },
       "content": {
        "cell": "7ec8a1e8-82bf-4339-b34b-bc2209f68e84",
        "part": "whole"
       },
       "id": "4cbed46b-20b5-4fb6-b343-c52c8d4d0133"
      }
     }
    },
    "579a4ee9-3619-4642-a038-f6b9fe2ff599": {
     "id": "579a4ee9-3619-4642-a038-f6b9fe2ff599",
     "prev": "15fad424-33e8-4ec6-a33f-c6172edf0c6a",
     "regions": {
      "ccaad72a-35a3-427b-b332-9d8f62b57f61": {
       "attrs": {
        "height": 0.8,
        "width": 0.8,
        "x": 0.1,
        "y": 0.1
       },
       "content": {
        "cell": "3c2676a9-586c-406b-b680-0868c7aea358",
        "part": "whole"
       },
       "id": "ccaad72a-35a3-427b-b332-9d8f62b57f61"
      }
     }
    },
    "6e5e1a36-1fc3-4d26-8306-fe96f4377417": {
     "id": "6e5e1a36-1fc3-4d26-8306-fe96f4377417",
     "prev": "5123c8ce-4348-4b28-ac5c-52f2b2308c76",
     "regions": {
      "c3e87ffb-5f86-4558-ab16-614f0ce5b815": {
       "attrs": {
        "height": 0.8,
        "width": 0.8,
        "x": 0.1,
        "y": 0.1
       },
       "content": {
        "cell": "7495a776-6f19-4ec1-ba9b-27ef3db83b01",
        "part": "whole"
       },
       "id": "c3e87ffb-5f86-4558-ab16-614f0ce5b815"
      }
     }
    },
    "6ed65bca-6da1-45d5-a4d8-84f033a40416": {
     "id": "6ed65bca-6da1-45d5-a4d8-84f033a40416",
     "prev": "f8808113-5c9c-4636-9185-7e84d9efbe4a",
     "regions": {
      "306f0a5d-ea01-48bc-ba52-f5e1ed6bbf2d": {
       "attrs": {
        "height": 0.8,
        "width": 0.8,
        "x": 0.1,
        "y": 0.1
       },
       "content": {
        "cell": "20552171-7dda-4717-9331-88e55705129c",
        "part": "whole"
       },
       "id": "306f0a5d-ea01-48bc-ba52-f5e1ed6bbf2d"
      }
     }
    },
    "7167ddbd-8898-4364-8688-d7527ad91fa1": {
     "id": "7167ddbd-8898-4364-8688-d7527ad91fa1",
     "prev": "20bca41c-261a-440b-b704-2cd6f0383aa1",
     "regions": {
      "0d326d48-d058-4c1c-9626-102e95d5d09f": {
       "attrs": {
        "height": 0.8,
        "width": 0.8,
        "x": 0.1,
        "y": 0.1
       },
       "content": {
        "cell": "b6f7cc96-2c8f-4592-a2b9-171b0c7d0496",
        "part": "whole"
       },
       "id": "0d326d48-d058-4c1c-9626-102e95d5d09f"
      }
     }
    },
    "71b8fa06-3ebc-43ec-9282-bf2f94f54de3": {
     "id": "71b8fa06-3ebc-43ec-9282-bf2f94f54de3",
     "prev": "755da41e-1ace-4e82-bb77-d3fc75fdcb89",
     "regions": {
      "f526009a-5601-44c4-9c05-ee789e34fafc": {
       "attrs": {
        "height": 0.8,
        "width": 0.8,
        "x": 0.1,
        "y": 0.1
       },
       "content": {
        "cell": "b644cb6f-394b-4a95-94a7-6905901e3467",
        "part": "whole"
       },
       "id": "f526009a-5601-44c4-9c05-ee789e34fafc"
      }
     }
    },
    "723ae868-5e76-4a5e-aff4-0d28ba936da3": {
     "id": "723ae868-5e76-4a5e-aff4-0d28ba936da3",
     "prev": "7167ddbd-8898-4364-8688-d7527ad91fa1",
     "regions": {
      "973adb9e-7e35-40be-b08f-600ec636073f": {
       "attrs": {
        "height": 0.8,
        "width": 0.8,
        "x": 0.1,
        "y": 0.1
       },
       "content": {
        "cell": "17eb49ec-ce0a-4a35-b5c5-9062d0494434",
        "part": "whole"
       },
       "id": "973adb9e-7e35-40be-b08f-600ec636073f"
      }
     }
    },
    "755da41e-1ace-4e82-bb77-d3fc75fdcb89": {
     "id": "755da41e-1ace-4e82-bb77-d3fc75fdcb89",
     "prev": "6e5e1a36-1fc3-4d26-8306-fe96f4377417",
     "regions": {
      "368ebde3-f089-43b3-b5a5-19e2c29698fc": {
       "attrs": {
        "height": 0.8,
        "width": 0.8,
        "x": 0.1,
        "y": 0.1
       },
       "content": {
        "cell": "3d6dd229-0784-47f9-a392-f93b1bd8a0d3",
        "part": "whole"
       },
       "id": "368ebde3-f089-43b3-b5a5-19e2c29698fc"
      }
     }
    },
    "7e498d00-8c80-48c4-ab2b-d766dea00555": {
     "id": "7e498d00-8c80-48c4-ab2b-d766dea00555",
     "prev": "264fc49a-5162-4f9e-a6f5-14d1b7d1b805",
     "regions": {
      "35ea8230-0caf-4d69-9d9e-330dd79f7803": {
       "attrs": {
        "height": 0.8,
        "width": 0.8,
        "x": 0.1,
        "y": 0.1
       },
       "content": {
        "cell": "ea9f5c14-13bc-4c7e-97aa-8bf071651771",
        "part": "whole"
       },
       "id": "35ea8230-0caf-4d69-9d9e-330dd79f7803"
      }
     }
    },
    "809b04fe-5f51-4400-9246-afb34c6923ff": {
     "id": "809b04fe-5f51-4400-9246-afb34c6923ff",
     "prev": "3fa31415-770f-4c5c-97b4-1a9be2de8252",
     "regions": {
      "d91d7952-be65-40e8-9607-d4e315cc33be": {
       "attrs": {
        "height": 0.8,
        "width": 0.8,
        "x": 0.1,
        "y": 0.1
       },
       "content": {
        "cell": "7e160b39-057b-4da9-8a3e-72e6c008e742",
        "part": "whole"
       },
       "id": "d91d7952-be65-40e8-9607-d4e315cc33be"
      }
     }
    },
    "84798a6a-3a7d-4b3b-9541-57cc67c03ef2": {
     "id": "84798a6a-3a7d-4b3b-9541-57cc67c03ef2",
     "prev": "6ed65bca-6da1-45d5-a4d8-84f033a40416",
     "regions": {
      "7ecb5d74-3263-43c1-9c1d-25cd9e951fae": {
       "attrs": {
        "height": 0.8,
        "width": 0.8,
        "x": 0.1,
        "y": 0.1
       },
       "content": {
        "cell": "e106fc71-d539-4690-959d-1813c78915e4",
        "part": "whole"
       },
       "id": "7ecb5d74-3263-43c1-9c1d-25cd9e951fae"
      }
     }
    },
    "a7ecab66-e537-4094-be3f-23082864e488": {
     "id": "a7ecab66-e537-4094-be3f-23082864e488",
     "prev": "11dca753-fdc3-451f-bdf2-e8d14410658a",
     "regions": {
      "0fd5f3d5-39e3-449f-b8b3-4d076f9e8736": {
       "attrs": {
        "height": 0.8,
        "width": 0.8,
        "x": 0.1,
        "y": 0.1
       },
       "content": {
        "cell": "50c7fbed-23fa-4e6b-bfc3-cea61632d109",
        "part": "whole"
       },
       "id": "0fd5f3d5-39e3-449f-b8b3-4d076f9e8736"
      }
     }
    },
    "e525f661-88d0-4e68-a4c1-122ba264e45d": {
     "id": "e525f661-88d0-4e68-a4c1-122ba264e45d",
     "prev": "ee7b7efa-1635-43c8-bdba-ede18c092e19",
     "regions": {
      "8c56ebf9-b2e9-47af-9520-887a24d99960": {
       "attrs": {
        "height": 0.8,
        "width": 0.8,
        "x": 0.1,
        "y": 0.1
       },
       "content": {
        "cell": "d80cdd09-e182-46c1-a084-e837139256f5",
        "part": "whole"
       },
       "id": "8c56ebf9-b2e9-47af-9520-887a24d99960"
      }
     }
    },
    "ea096349-9691-417e-89be-4bbddd029a0e": {
     "id": "ea096349-9691-417e-89be-4bbddd029a0e",
     "prev": "71b8fa06-3ebc-43ec-9282-bf2f94f54de3",
     "regions": {
      "d19d7660-600f-4c0c-8bf3-e9dbdfe0af15": {
       "attrs": {
        "height": 0.8,
        "width": 0.8,
        "x": 0.1,
        "y": 0.1
       },
       "content": {
        "cell": "5c25bfa5-7050-427e-b385-1ec35bb07750",
        "part": "whole"
       },
       "id": "d19d7660-600f-4c0c-8bf3-e9dbdfe0af15"
      }
     }
    },
    "ee7b7efa-1635-43c8-bdba-ede18c092e19": {
     "id": "ee7b7efa-1635-43c8-bdba-ede18c092e19",
     "prev": "84798a6a-3a7d-4b3b-9541-57cc67c03ef2",
     "regions": {
      "80ac690a-1fde-4fbb-a826-d247c478398d": {
       "attrs": {
        "height": 0.8,
        "width": 0.8,
        "x": 0.1,
        "y": 0.1
       },
       "content": {
        "cell": "d64046ae-5036-4990-8102-ac25d89299f3",
        "part": "whole"
       },
       "id": "80ac690a-1fde-4fbb-a826-d247c478398d"
      }
     }
    },
    "f4b212f7-e978-4b7b-9f9f-34da2fbcd1c9": {
     "id": "f4b212f7-e978-4b7b-9f9f-34da2fbcd1c9",
     "prev": "5653363d-9575-47d0-9f6c-2e16fcae07e2",
     "regions": {
      "7079197d-228f-406e-8906-dc524da24f8d": {
       "attrs": {
        "height": 0.8,
        "width": 0.8,
        "x": 0.1,
        "y": 0.1
       },
       "content": {
        "cell": "6ffed138-4ef0-48e1-8982-fd7e6c5efde5",
        "part": "whole"
       },
       "id": "7079197d-228f-406e-8906-dc524da24f8d"
      }
     }
    },
    "f8612623-3785-4375-adb8-93ff5977d8ce": {
     "id": "f8612623-3785-4375-adb8-93ff5977d8ce",
     "prev": "ea096349-9691-417e-89be-4bbddd029a0e",
     "regions": {
      "2e00e449-59c6-4cc9-9eec-c1d8e4d6448c": {
       "attrs": {
        "height": 0.8,
        "width": 0.8,
        "x": 0.1,
        "y": 0.1
       },
       "content": {
        "cell": "84e960f7-5e2d-4314-b844-160956df06be",
        "part": "whole"
       },
       "id": "2e00e449-59c6-4cc9-9eec-c1d8e4d6448c"
      }
     }
    },
    "f8808113-5c9c-4636-9185-7e84d9efbe4a": {
     "id": "f8808113-5c9c-4636-9185-7e84d9efbe4a",
     "prev": "7e498d00-8c80-48c4-ab2b-d766dea00555",
     "regions": {
      "b6d73ca8-172d-435b-b9ee-ebb502c9e854": {
       "attrs": {
        "height": 0.8,
        "width": 0.8,
        "x": 0.1,
        "y": 0.1
       },
       "content": {
        "cell": "a55ea14f-7e54-4b3f-8ea2-7a423c12c8ba",
        "part": "whole"
       },
       "id": "b6d73ca8-172d-435b-b9ee-ebb502c9e854"
      }
     }
    },
    "fbf4e989-4e4e-4663-8020-391f8a2fdf07": {
     "id": "fbf4e989-4e4e-4663-8020-391f8a2fdf07",
     "prev": "40e88018-d5de-43ca-ba6c-58548495c01f",
     "regions": {
      "5f5cc417-6fea-437e-b9b9-017927757734": {
       "attrs": {
        "height": 0.8,
        "width": 0.8,
        "x": 0.1,
        "y": 0.1
       },
       "content": {
        "cell": "88ca7028-309f-495a-a1bb-ef2ea1caec1c",
        "part": "whole"
       },
       "id": "5f5cc417-6fea-437e-b9b9-017927757734"
      }
     }
    },
    "fdcdaecd-40a2-4404-8318-eba24209f125": {
     "id": "fdcdaecd-40a2-4404-8318-eba24209f125",
     "prev": null,
     "regions": {
      "efd3d4a3-4fa8-41fe-99d7-5488c2533d3a": {
       "attrs": {
        "height": 0.8,
        "width": 0.8,
        "x": 0.1,
        "y": 0.1
       },
       "content": {
        "cell": "81efed75-8a3d-4962-8807-dad952e4563d",
        "part": "whole"
       },
       "id": "efd3d4a3-4fa8-41fe-99d7-5488c2533d3a"
      }
     }
    }
   },
   "themes": {}
  },
  "toc": {
   "nav_menu": {
    "height": "272px",
    "width": "252px"
   },
   "number_sections": false,
   "sideBar": true,
   "skip_h1_title": false,
   "toc_cell": false,
   "toc_position": {},
   "toc_section_display": "block",
   "toc_window_display": false
  }
 },
 "nbformat": 4,
 "nbformat_minor": 1
}
