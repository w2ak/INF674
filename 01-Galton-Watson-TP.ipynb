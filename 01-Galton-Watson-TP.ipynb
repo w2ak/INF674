{
 "cells": [
  {
   "cell_type": "markdown",
   "metadata": {
    "deletable": true,
    "editable": true
   },
   "source": [
    "# INF 674 S1: Galton-Watson Process"
   ]
  },
  {
   "cell_type": "markdown",
   "metadata": {
    "deletable": true,
    "editable": true
   },
   "source": [
    "## Céline Comte & Fabien Mathieu"
   ]
  },
  {
   "cell_type": "markdown",
   "metadata": {
    "deletable": true,
    "editable": true
   },
   "source": [
    "### 2017-2018"
   ]
  },
  {
   "cell_type": "markdown",
   "metadata": {
    "deletable": true,
    "editable": true
   },
   "source": [
    "To start the course, we propose to investigate the **Galton-Watson process**.\n",
    "This process was introduced to depict the propagation of some feature (family surname, DNA) through generations, and in particular to estimate its probability of extinction.\n",
    "\n",
    "A Galton-Watson process can be represented as a (directed) random tree. It is built generation by generation as follows. At generation $0$, there is a single individual, the ancestor of the population, represented by the tree *root*. Starting from this, each individual from a given generation $ i $ gives birth to a certain number of individual at generation $ i+1 $, represented by its direct successors in the tree.\n",
    "\n",
    "The unique parameter of the process is the distribution of the number of children of each node. Specifically, we assume that the number of children of a node is independent from the other nodes, drawn according to some given distribution $(p_k)_{k\\in \\mathbb{N}}$ (s.t. $\\sum_{k=0}^{\\infty} p_k = 1$). We let $\\mu$ denote the average number of children, supposed finite:\n",
    "$$\n",
    "\\mu =  \\sum_{k=0}^{\\infty} k p_k <+\\infty.\n",
    "$$\n",
    "\n",
    "Note that there are multiple ways to explore the tree. For example:\n",
    "- **Generation by generation**: This is the view we presented above. We call $ G_i $ the random variable which counts the number of nodes at generation $ i $.\n",
    "- **Active node by active node**: The nodes are visited one by one to decide on their number of offsprings. We keep track of the number of nodes which are *active* in the sense that we have discovered them but we have not drawn their number of offsprings yet. As long as there are active nodes, we can perform a *termination* which consists in desactivating a node, drawing the number of its children according to $(p_k)_{k \\in \\mathbb{N}}$ and adding these children (if any) to the set of active nodes. We call $ X_t $ the number of active nodes after $ t $ terminations, with the convention that $X_0 = 1$. Observe that $(X_t)_{t \\in \\mathbb{N}}$ defines a Markov process which is similar to a birth-and-death process, except that state $0$ is absorbing.\n",
    "\n",
    "The goal of the practical is to play with the two views to understand Galton-Watson processes.\n",
    "\n",
    "If you want to deepen your theoretical knowledge of this process, you can read Chapter 1 from the book [Epidemics and Rumours in Complex Networks][massoulie] (which is **not** mandatory).\n",
    "\n",
    "[massoulie]: https://www.cambridge.org/core/books/epidemics-and-rumours-in-complex-networks/8C1D162F44C2C09F2B913038A7FA8BF6 \"Epidemics and Rumours in Complex Networks by Moez Draief and Laurent Massoulié\""
   ]
  },
  {
   "cell_type": "code",
   "execution_count": 1,
   "metadata": {
    "ExecuteTime": {
     "end_time": "2017-09-11T09:37:11.562166Z",
     "start_time": "2017-09-11T09:37:11.200472Z"
    },
    "collapsed": false,
    "deletable": true,
    "editable": true,
    "scrolled": true
   },
   "outputs": [
    {
     "name": "stdout",
     "output_type": "stream",
     "text": [
      "Populating the interactive namespace from numpy and matplotlib\n"
     ]
    }
   ],
   "source": [
    "%pylab inline"
   ]
  },
  {
   "cell_type": "markdown",
   "metadata": {
    "deletable": true,
    "editable": true
   },
   "source": [
    "# 1. Bimodal distribution"
   ]
  },
  {
   "cell_type": "markdown",
   "metadata": {
    "deletable": true,
    "editable": true
   },
   "source": [
    "We first assume a very simple children distribution, the *bimodal* distribution, where a node can only have 0 or 2 children: $p_0=1-\\mu/2, p_2=\\mu/2, p_k=0$ for $k\\notin \\{0,2\\}$. In this section, we focus on values of the mean $\\mu$ which range between $0$ and $2$, and perform an empirical study of the associated Galton-Watson process.\n",
    "\n",
    "Note: Try to write a flexible code, as parameters and distributions will change."
   ]
  },
  {
   "cell_type": "markdown",
   "metadata": {
    "deletable": true,
    "editable": true
   },
   "source": [
    "## Question 1"
   ]
  },
  {
   "cell_type": "markdown",
   "metadata": {
    "deletable": true,
    "editable": true
   },
   "source": [
    "We first consider the *generation by generation* exploration. Write a function ``generation_growth`` that returns the values $G_i$ observed during a realization of the process (up to generation ``imax``).\n",
    "\n",
    "Run it a few times with different values of the mean $\\mu$. Can you comment?\n",
    "\n",
    "The function ``random.rand`` of ``numpy`` package may be handy."
   ]
  },
  {
   "cell_type": "markdown",
   "metadata": {
    "deletable": true,
    "editable": true
   },
   "source": [
    "**Code:**"
   ]
  },
  {
   "cell_type": "code",
   "execution_count": 2,
   "metadata": {
    "ExecuteTime": {
     "end_time": "2017-09-11T09:37:11.569534Z",
     "start_time": "2017-09-11T09:37:11.563493Z"
    },
    "collapsed": true,
    "deletable": true,
    "editable": true,
    "slideshow": {
     "slide_type": "skip"
    }
   },
   "outputs": [],
   "source": [
    "def generation_growth(μ, imax = 20):\n",
    "    g = zeros(imax + 1, dtype = int)\n",
    "    g[0] = 1\n",
    "    for i in range(imax):\n",
    "        if g[i] == 0:\n",
    "            break\n",
    "        g[i+1] = 2*binomial(g[i],μ/2,1)\n",
    "        # g[i+1] = 2 * sum(rand(g[i]) < μ/2)\n",
    "    return g"
   ]
  },
  {
   "cell_type": "markdown",
   "metadata": {
    "deletable": true,
    "editable": true
   },
   "source": [
    "**Discussion:**"
   ]
  },
  {
   "cell_type": "code",
   "execution_count": 3,
   "metadata": {
    "ExecuteTime": {
     "end_time": "2017-09-11T09:37:11.586721Z",
     "start_time": "2017-09-11T09:37:11.571375Z"
    },
    "collapsed": false,
    "deletable": true,
    "editable": true,
    "slideshow": {
     "slide_type": "skip"
    }
   },
   "outputs": [
    {
     "data": {
      "text/plain": [
       "array([1, 2, 2, 4, 4, 4, 4, 6, 8, 4, 4, 2, 0, 0, 0, 0, 0, 0, 0, 0, 0])"
      ]
     },
     "execution_count": 3,
     "metadata": {},
     "output_type": "execute_result"
    }
   ],
   "source": [
    "μ = 1.\n",
    "generation_growth(μ)"
   ]
  },
  {
   "cell_type": "markdown",
   "metadata": {
    "deletable": true,
    "editable": true
   },
   "source": [
    "## Question 2"
   ]
  },
  {
   "cell_type": "markdown",
   "metadata": {
    "deletable": true,
    "editable": true
   },
   "source": [
    "We now consider the *active node by active node* exploration. Write a function ``active_growth`` that returns the values $X_t$ observed during a realization of the process (fix a maximal number ``tmax`` of terminations). Warning: your function should not return negative values.\n",
    "\n",
    "Run it a few times with different values of the mean $\\mu$. Can you comment?"
   ]
  },
  {
   "cell_type": "markdown",
   "metadata": {
    "deletable": true,
    "editable": true
   },
   "source": [
    "**Code:**"
   ]
  },
  {
   "cell_type": "code",
   "execution_count": 4,
   "metadata": {
    "ExecuteTime": {
     "end_time": "2017-09-11T09:37:11.621166Z",
     "start_time": "2017-09-11T09:37:11.588439Z"
    },
    "collapsed": true,
    "deletable": true,
    "editable": true,
    "slideshow": {
     "slide_type": "skip"
    }
   },
   "outputs": [],
   "source": [
    "def active_growth_ext(μ, tmax = 20):\n",
    "    x = 2*(rand(tmax+1)<μ/2) - 1\n",
    "    x[0] = 1\n",
    "    x = cumsum(x)\n",
    "    return x\n",
    "def active_growth(μ,tmax=20):\n",
    "    x = active_growth_ext(μ,tmax=tmax)\n",
    "    x *= cumprod(x>0)\n",
    "    return x"
   ]
  },
  {
   "cell_type": "markdown",
   "metadata": {
    "deletable": true,
    "editable": true
   },
   "source": [
    "**Discussion:**"
   ]
  },
  {
   "cell_type": "code",
   "execution_count": 5,
   "metadata": {
    "ExecuteTime": {
     "end_time": "2017-09-11T09:37:11.631790Z",
     "start_time": "2017-09-11T09:37:11.624083Z"
    },
    "collapsed": false,
    "deletable": true,
    "editable": true,
    "slideshow": {
     "slide_type": "skip"
    }
   },
   "outputs": [
    {
     "data": {
      "text/plain": [
       "array([1, 0, 0, 0, 0, 0, 0, 0, 0, 0, 0, 0, 0, 0, 0, 0, 0, 0, 0, 0, 0])"
      ]
     },
     "execution_count": 5,
     "metadata": {},
     "output_type": "execute_result"
    }
   ],
   "source": [
    "μ = 1.\n",
    "active_growth(μ)"
   ]
  },
  {
   "cell_type": "markdown",
   "metadata": {
    "deletable": true,
    "editable": true
   },
   "source": [
    "## Question 3"
   ]
  },
  {
   "cell_type": "markdown",
   "metadata": {
    "deletable": true,
    "editable": true
   },
   "source": [
    "Write two functions ``estimate_generation`` and ``estimate_active`` that estimate  $\\mathbb{E}(G_i)$ and $\\mathbb{E}(X_t)$ by averaging the results over $ n $ runs.\n",
    "\n",
    "For $\\mu = 1/2$ and $\\mu = 4/3$, display the results in figures and comment."
   ]
  },
  {
   "cell_type": "markdown",
   "metadata": {
    "deletable": true,
    "editable": true
   },
   "source": [
    "**Code: **"
   ]
  },
  {
   "cell_type": "code",
   "execution_count": 6,
   "metadata": {
    "ExecuteTime": {
     "end_time": "2017-09-11T09:37:11.642368Z",
     "start_time": "2017-09-11T09:37:11.634558Z"
    },
    "collapsed": true,
    "deletable": true,
    "editable": true,
    "slideshow": {
     "slide_type": "skip"
    }
   },
   "outputs": [],
   "source": [
    "def estimate_generation(μ, imax = 10, n = 1000):\n",
    "    g = zeros(imax+1)\n",
    "    for _ in range(n):\n",
    "        g += generation_growth(μ, imax = imax)\n",
    "    # to be completed\n",
    "    return g / n"
   ]
  },
  {
   "cell_type": "code",
   "execution_count": 7,
   "metadata": {
    "ExecuteTime": {
     "end_time": "2017-09-11T09:37:11.652806Z",
     "start_time": "2017-09-11T09:37:11.644623Z"
    },
    "collapsed": true,
    "deletable": true,
    "editable": true,
    "slideshow": {
     "slide_type": "skip"
    }
   },
   "outputs": [],
   "source": [
    "def estimate_active(μ, tmax = 100, n = 1000):\n",
    "    x = zeros(tmax+1)\n",
    "    for _ in range(n):\n",
    "        x += active_growth(μ, tmax = tmax)\n",
    "    return x/n"
   ]
  },
  {
   "cell_type": "markdown",
   "metadata": {
    "deletable": true,
    "editable": true
   },
   "source": [
    "**Discussion:**"
   ]
  },
  {
   "cell_type": "code",
   "execution_count": 8,
   "metadata": {
    "ExecuteTime": {
     "end_time": "2017-09-11T09:37:11.663643Z",
     "start_time": "2017-09-11T09:37:11.655170Z"
    },
    "collapsed": true,
    "deletable": true,
    "editable": true,
    "slideshow": {
     "slide_type": "skip"
    }
   },
   "outputs": [],
   "source": [
    "μ = 4/3"
   ]
  },
  {
   "cell_type": "code",
   "execution_count": 9,
   "metadata": {
    "ExecuteTime": {
     "end_time": "2017-09-11T09:37:12.395936Z",
     "start_time": "2017-09-11T09:37:11.665069Z"
    },
    "collapsed": false,
    "deletable": true,
    "editable": true
   },
   "outputs": [
    {
     "data": {
      "image/png": "[encoded data removed]",
      "text/plain": [
       "<matplotlib.figure.Figure at 0x7f5ee2f62da0>"
      ]
     },
     "metadata": {},
     "output_type": "display_data"
    }
   ],
   "source": [
    "imax = 10\n",
    "\n",
    "figure()\n",
    "semilogy(arange(imax+1), estimate_generation(μ, imax), label='Estimate of $\\mathbb{E}(G_i)$')\n",
    "xlabel('Generation')\n",
    "ylabel('Number of individuals')\n",
    "legend()\n",
    "show()"
   ]
  },
  {
   "cell_type": "code",
   "execution_count": 10,
   "metadata": {
    "ExecuteTime": {
     "end_time": "2017-09-11T09:37:12.672109Z",
     "start_time": "2017-09-11T09:37:12.397631Z"
    },
    "collapsed": false,
    "deletable": true,
    "editable": true,
    "slideshow": {
     "slide_type": "skip"
    }
   },
   "outputs": [
    {
     "data": {
      "image/png": "[encoded data removed]",
      "text/plain": [
       "<matplotlib.figure.Figure at 0x7f5ee2c0c1d0>"
      ]
     },
     "metadata": {},
     "output_type": "display_data"
    }
   ],
   "source": [
    "tmax = 100\n",
    "\n",
    "figure()\n",
    "plot(arange(tmax+1), estimate_active(μ, tmax), label='Estimate of $\\mathbb{E}(X_t)$')\n",
    "xlabel('Step')\n",
    "ylabel('Number of individuals')\n",
    "legend(loc=2)\n",
    "show()"
   ]
  },
  {
   "cell_type": "markdown",
   "metadata": {
    "collapsed": true,
    "deletable": true,
    "editable": true
   },
   "source": [
    "## Question 4"
   ]
  },
  {
   "cell_type": "markdown",
   "metadata": {
    "deletable": true,
    "editable": true
   },
   "source": [
    "At each realization, you may face extinction in the sense that none of the nodes of this generation has children. Write a function ``estimate_extinction`` that uses the function ``active_growth`` of Question 2 to estimate the probability of extinction $ P_{ext} $. Run it on a few values of $\\mu$."
   ]
  },
  {
   "cell_type": "markdown",
   "metadata": {
    "deletable": true,
    "editable": true
   },
   "source": [
    "**Code:**"
   ]
  },
  {
   "cell_type": "code",
   "execution_count": 11,
   "metadata": {
    "collapsed": false
   },
   "outputs": [],
   "source": [
    "def estimate_extinction(μ, tmax = 20, n = 1000):\n",
    "    p = 0\n",
    "    for i in range(n):\n",
    "        p += any(active_growth_ext(μ,tmax=tmax) <= 0)\n",
    "    return p/n\n",
    "\n",
    "def vec_estimate_extinction(tmax=20,n=1000):\n",
    "    @vectorize\n",
    "    def ee(μ):\n",
    "        p = 0\n",
    "        for i in range(n):\n",
    "            p+=(any(active_growth_ext(μ,tmax=tmax)<=0))\n",
    "        return p/n\n",
    "    return ee"
   ]
  },
  {
   "cell_type": "code",
   "execution_count": 15,
   "metadata": {
    "collapsed": false,
    "scrolled": true
   },
   "outputs": [
    {
     "data": {
      "image/png": "[encoded data removed]",
      "text/plain": [
       "<matplotlib.figure.Figure at 0x7f5ee2a33390>"
      ]
     },
     "metadata": {},
     "output_type": "display_data"
    }
   ],
   "source": [
    "μmax = 2.0\n",
    "step = 0.02\n",
    "tmax = 1000\n",
    "n = 1000\n",
    "\n",
    "μ = arange(0.0,μmax,step)\n",
    "p = vec_estimate_extinction(tmax = tmax, n = n)(μ)\n",
    "figure()\n",
    "plot(μ, p, label='Estimate of $\\mathbb{P}_{ext}$')\n",
    "xlabel('$\\mu$')\n",
    "ylabel('Extinction probability')\n",
    "legend(loc=2)\n",
    "show()"
   ]
  },
  {
   "cell_type": "markdown",
   "metadata": {
    "deletable": true,
    "editable": true
   },
   "source": [
    "## Question 5 (Bonus)"
   ]
  },
  {
   "cell_type": "markdown",
   "metadata": {
    "deletable": true,
    "editable": true
   },
   "source": [
    "Evaluate $\\mathbb{E}(G_i)$ conditioned on the run has lead to extinction or not. Discuss the results."
   ]
  },
  {
   "cell_type": "markdown",
   "metadata": {
    "deletable": true,
    "editable": true
   },
   "source": [
    "**Answer:**"
   ]
  },
  {
   "cell_type": "markdown",
   "metadata": {
    "collapsed": true,
    "deletable": true,
    "editable": true
   },
   "source": [
    "# 2. Extinction"
   ]
  },
  {
   "cell_type": "markdown",
   "metadata": {
    "deletable": true,
    "editable": true
   },
   "source": [
    "We focus now on the probability $P_{ext}$ of extinction, which is the probability that the total population is finite. We will observe experimentally the following phase transition:\n",
    "- If $\\mu < 1$, then $P_{ext} = 1$.\n",
    "- If $\\mu > 1$, then $P_{ext} < 1$.\n",
    "\n",
    "The proof of this result is given in [Epidemics and Rumours in Complex Networks][massoulie], along with more details (in particular, the behavior of the process when $\\mu = 1$).\n",
    "\n",
    "[massoulie]: https://www.cambridge.org/core/books/epidemics-and-rumours-in-complex-networks/8C1D162F44C2C09F2B913038A7FA8BF6 \"Epidemics and Rumours in Complex Networks by Moez Draief and Laurent Massoulié\""
   ]
  },
  {
   "cell_type": "markdown",
   "metadata": {
    "deletable": true,
    "editable": true
   },
   "source": [
    "## Question 1"
   ]
  },
  {
   "cell_type": "markdown",
   "metadata": {
    "deletable": true,
    "editable": true
   },
   "source": [
    "Give an equality that relates $P_{ext}$ and $(p_k)_{k\\in \\mathbb{N}}$."
   ]
  },
  {
   "cell_type": "markdown",
   "metadata": {
    "deletable": true,
    "editable": true
   },
   "source": [
    "**Answer:**"
   ]
  },
  {
   "cell_type": "markdown",
   "metadata": {},
   "source": [
    "A Galtson-Watson process dies if an only if each and every one of his *independent* children processes dies.\n",
    "\n",
    "$$\n",
    "\\mathbb{P}_{ext} = \\sum_{k=0}^{+\\infty}{p_k\\mathbb{P}_{ext}^k}\n",
    "$$"
   ]
  },
  {
   "cell_type": "markdown",
   "metadata": {
    "deletable": true,
    "editable": true
   },
   "source": [
    "## Question 2 "
   ]
  },
  {
   "cell_type": "markdown",
   "metadata": {
    "deletable": true,
    "editable": true
   },
   "source": [
    "We consider the bimodal distribution of Exercice 1.\n",
    "Admitting that $P_{ext}$ is the smallest solution of the previous equation in the interval $[0,1]$, relate $P_{ext}$ and $\\mu$.\n",
    "Write a (very) small function ``pext_bim_exact`` that computes $P_{ext}$ for a list of $\\mu$'s."
   ]
  },
  {
   "cell_type": "markdown",
   "metadata": {
    "deletable": true,
    "editable": true
   },
   "source": [
    "**Answer:**"
   ]
  },
  {
   "cell_type": "markdown",
   "metadata": {},
   "source": [
    "Considering the bimodal distribution, $P_{ext}$ is simply\n",
    "$$\n",
    "P_{ext} = \\left\\lbrace\\begin{array}{ll}1 &\\text{if }\\mu=0\\\\\\dfrac{1-\\sqrt{1-\\mu(2-\\mu)}}\\mu&\\text{otherwise}\\end{array}\\right.\n",
    "$$"
   ]
  },
  {
   "cell_type": "code",
   "execution_count": 34,
   "metadata": {
    "collapsed": false
   },
   "outputs": [
    {
     "data": {
      "image/png": "[encoded data removed]",
      "text/plain": [
       "<matplotlib.figure.Figure at 0x7f5ee297aa58>"
      ]
     },
     "metadata": {},
     "output_type": "display_data"
    }
   ],
   "source": [
    "@vectorize\n",
    "def divide(α,μ):\n",
    "    if μ == 0:\n",
    "        return 1.\n",
    "    else:\n",
    "        return α/μ\n",
    "\n",
    "def pext_bim_exact(μ):\n",
    "    α = μ/2\n",
    "    α = 1-sqrt(maximum(0.,1 - 4 * α * (1-α)))\n",
    "    return divide(α,μ)\n",
    "\n",
    "μ = arange(0.,2.,0.02)\n",
    "figure()\n",
    "plot(μ, pext_bim_exact(μ), label='Exact value of $\\mathbb{P}_{ext}$')\n",
    "xlabel('$\\mu$')\n",
    "ylabel('Extinction probability')\n",
    "legend(loc=2)\n",
    "show()"
   ]
  },
  {
   "cell_type": "markdown",
   "metadata": {
    "collapsed": true,
    "deletable": true,
    "editable": true
   },
   "source": [
    "## Question 3"
   ]
  },
  {
   "cell_type": "markdown",
   "metadata": {
    "deletable": true,
    "editable": true
   },
   "source": [
    "Adapt the function from Question 4 of Exercice 1 to estimate $P_{ext}$ by simulation for multiple values of $\\mu$. Suggested values: ``t=10``, ``t=100``, ``t=1000``, ``n=1000``, $\\mu$ ``= np.arange(0,2.05,.05)``. Display the results you obtain against the theoretical value obtained in the previous question. Discuss the difference."
   ]
  },
  {
   "cell_type": "markdown",
   "metadata": {
    "deletable": true,
    "editable": true
   },
   "source": [
    "**Code:**"
   ]
  },
  {
   "cell_type": "code",
   "execution_count": 41,
   "metadata": {
    "collapsed": false
   },
   "outputs": [
    {
     "data": {
      "image/png": "[encoded data removed]",
      "text/plain": [
       "<matplotlib.figure.Figure at 0x7f5ee2afb080>"
      ]
     },
     "metadata": {},
     "output_type": "display_data"
    }
   ],
   "source": [
    "μ = arange(0.,2.,0.02)\n",
    "\n",
    "figure()\n",
    "plot(μ, vec_estimate_extinction(tmax=10,n=1000)(μ), label='Estimate of $\\mathbb{P}_{ext}$, $tmax=10$')\n",
    "plot(μ, vec_estimate_extinction(tmax=100,n=1000)(μ), label='Estimate of $\\mathbb{P}_{ext}$, $tmax=100$')\n",
    "plot(μ, vec_estimate_extinction(tmax=1000,n=1000)(μ), label='Estimate of $\\mathbb{P}_{ext}$, $tmax=1000$')\n",
    "plot(μ, pext_bim_exact(μ), label='Exact value of $\\mathbb{P}_{ext}$')\n",
    "xlabel('$\\mu$')\n",
    "ylabel('Extinction probability')\n",
    "legend(loc=2,bbox_to_anchor=(1, 1))\n",
    "show()"
   ]
  },
  {
   "cell_type": "markdown",
   "metadata": {
    "deletable": true,
    "editable": true
   },
   "source": [
    "**Discussion:**"
   ]
  },
  {
   "cell_type": "markdown",
   "metadata": {
    "collapsed": true,
    "deletable": true,
    "editable": true
   },
   "source": [
    "## Question 4"
   ]
  },
  {
   "cell_type": "markdown",
   "metadata": {
    "deletable": true,
    "editable": true
   },
   "source": [
    "Evaluating the results by simulation has an inherent lack of accuracy. Try to compute exactly the probability that all nodes are dead after $t$ terminations. Display the results and compare.\n",
    "\n",
    "Hint: for $t <\\infty$, write a function ``pop_after_t`` that computes the **distribution** of the number of active nodes after $t$ terminations as a function of $ p = (p_k)_{k \\in \\mathbb{N}}$. The function ``convolve`` from ``numpy`` package may be handy."
   ]
  },
  {
   "cell_type": "markdown",
   "metadata": {
    "deletable": true,
    "editable": true
   },
   "source": [
    "**Answer:**"
   ]
  },
  {
   "cell_type": "markdown",
   "metadata": {
    "deletable": true,
    "editable": true
   },
   "source": [
    "**Code:**"
   ]
  },
  {
   "cell_type": "markdown",
   "metadata": {
    "deletable": true,
    "editable": true
   },
   "source": [
    "# 3. Other Distributions "
   ]
  },
  {
   "cell_type": "markdown",
   "metadata": {
    "deletable": true,
    "editable": true
   },
   "source": [
    "## Question 1 "
   ]
  },
  {
   "cell_type": "markdown",
   "metadata": {
    "deletable": true,
    "editable": true
   },
   "source": [
    "We now consider a geometric distribution $p_k=(1-a)a^k$, or each $k \\in \\mathbb{N}$, for some $0\\leq a<1$. Relate $a$ and $\\mu$ and study the extinction probability like you did for the bimodal case. In particular, give the equation $ P_{ext} $ should verify. Compute $ P_{ext} $ as a function of $ \\mu $ for $ \\mu\\in [0, 2] $. For the non trivial cases, you can use an iterative computation of the solution. To validate the result, you should for instance:\n",
    "- Adapt ``pop_after_t`` to compute $ P_{ext} $ after ``t=1000`` terminations for a truncated geometric distribution.\n",
    "- Run multiple simulations using a geometric generator. The function ``random.geometric`` from ``numpy`` package may be handy.\n",
    "\n",
    "Display the results."
   ]
  },
  {
   "cell_type": "markdown",
   "metadata": {
    "deletable": true,
    "editable": true
   },
   "source": [
    "**Code:** "
   ]
  },
  {
   "cell_type": "markdown",
   "metadata": {
    "deletable": true,
    "editable": true
   },
   "source": [
    "## Question 2"
   ]
  },
  {
   "cell_type": "markdown",
   "metadata": {
    "deletable": true,
    "editable": true
   },
   "source": [
    "We finally consider a Poisson distribution of parameter $\\mu$:\n",
    "$$\n",
    "    p_k = e^{-\\mu}\\frac{\\mu^k}{k!},\n",
    "    \\quad \\forall k \\in \\mathbb{N}.\n",
    "$$\n",
    "Study the extinction probability.\n",
    "In particular, give the equation $ P_{ext} $ should verify. Compute $ P_{ext} $ as a function of $ \\mu $ for $ \\mu\\in [0, 2] $. For the non trivial cases, you can use an iterative computation of the solution. To validate the result:\n",
    "- Adapt ``pop_after_t`` to compute $ P_{ext} $ after ``t=1000`` terminations for a truncated Poisson distribution.\n",
    "- Run multiple simulations using a Poisson generator. The function ``random.poisson`` from ``numpy`` package may be handy.\n",
    "\n",
    "Display the results."
   ]
  },
  {
   "cell_type": "markdown",
   "metadata": {
    "deletable": true,
    "editable": true
   },
   "source": [
    "**Code:**"
   ]
  },
  {
   "cell_type": "markdown",
   "metadata": {
    "deletable": true,
    "editable": true
   },
   "source": [
    "## Question 3 (Bonus) "
   ]
  },
  {
   "cell_type": "markdown",
   "metadata": {
    "deletable": true,
    "editable": true
   },
   "source": [
    "Plot the three theoretical $ P_{ext} $ you obtained on the same figure, for the same mean value $\\mu$. Try to informally discuss the differences."
   ]
  },
  {
   "cell_type": "markdown",
   "metadata": {
    "deletable": true,
    "editable": true
   },
   "source": [
    "**Answer:**"
   ]
  },
  {
   "cell_type": "markdown",
   "metadata": {
    "deletable": true,
    "editable": true
   },
   "source": [
    "## Question 4 (Bonus)"
   ]
  },
  {
   "cell_type": "markdown",
   "metadata": {
    "deletable": true,
    "editable": true
   },
   "source": [
    "Redo the exercices of this Notebook for a Galton-Watson process that starts with two nodes (you can re-use results from above)."
   ]
  }
 ],
 "metadata": {
  "anaconda-cloud": {},
  "hide_input": false,
  "kernelspec": {
   "display_name": "Python 3",
   "language": "python",
   "name": "python3"
  },
  "language_info": {
   "codemirror_mode": {
    "name": "ipython",
    "version": 3
   },
   "file_extension": ".py",
   "mimetype": "text/x-python",
   "name": "python",
   "nbconvert_exporter": "python",
   "pygments_lexer": "ipython3",
   "version": "3.5.2"
  },
  "latex_envs": {
   "LaTeX_envs_menu_present": true,
   "bibliofile": "biblio.bib",
   "cite_by": "apalike",
   "current_citInitial": 1,
   "eqLabelWithNumbers": true,
   "eqNumInitial": 1,
   "hotkeys": {
    "equation": "Ctrl-E",
    "itemize": "Ctrl-I"
   },
   "labels_anchors": false,
   "latex_user_defs": false,
   "report_style_numbering": false,
   "user_envs_cfg": false
  },
  "nav_menu": {},
  "toc": {
   "colors": {
    "hover_highlight": "#DAA520",
    "navigate_num": "#000000",
    "navigate_text": "#333333",
    "running_highlight": "#FF0000",
    "selected_highlight": "#FFD700",
    "sidebar_border": "#EEEEEE",
    "wrapper_background": "#FFFFFF"
   },
   "moveMenuLeft": true,
   "nav_menu": {
    "height": "364px",
    "width": "252px"
   },
   "navigate_menu": true,
   "number_sections": false,
   "sideBar": true,
   "skip_h1_title": false,
   "threshold": 4,
   "toc_cell": false,
   "toc_position": {},
   "toc_section_display": "block",
   "toc_window_display": true,
   "widenNotebook": false
  }
 },
 "nbformat": 4,
 "nbformat_minor": 1
}
